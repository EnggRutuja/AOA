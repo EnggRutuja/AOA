{
  "nbformat": 4,
  "nbformat_minor": 0,
  "metadata": {
    "colab": {
      "provenance": [],
      "authorship_tag": "ABX9TyPxbf5PAxuJbllopbmbcmnY",
      "include_colab_link": true
    },
    "kernelspec": {
      "name": "python3",
      "display_name": "Python 3"
    },
    "language_info": {
      "name": "python"
    }
  },
  "cells": [
    {
      "cell_type": "markdown",
      "metadata": {
        "id": "view-in-github",
        "colab_type": "text"
      },
      "source": [
        "<a href=\"https://colab.research.google.com/github/EnggRutuja/AOA/blob/main/Copy_of_1work.ipynb\" target=\"_parent\"><img src=\"https://colab.research.google.com/assets/colab-badge.svg\" alt=\"Open In Colab\"/></a>"
      ]
    },
    {
      "cell_type": "code",
      "execution_count": null,
      "metadata": {
        "colab": {
          "base_uri": "https://localhost:8080/"
        },
        "id": "lS4qp8BI_pOc",
        "outputId": "e1d4e625-7115-4b61-93b3-714ef56ff594"
      },
      "outputs": [
        {
          "output_type": "stream",
          "name": "stdout",
          "text": [
            "hello world\n"
          ]
        }
      ],
      "source": [
        "print(\"hello world\")"
      ]
    },
    {
      "cell_type": "code",
      "source": [
        "x=5\n",
        "y=7\n",
        "m = \"5\"\n",
        "n = \"5\"\n",
        "print(type(x))\n",
        "print(type(y))\n",
        "print(x+y)\n",
        "print(m+n)"
      ],
      "metadata": {
        "colab": {
          "base_uri": "https://localhost:8080/"
        },
        "id": "eYfou2cCA6DH",
        "outputId": "014c6777-940d-481d-a498-15da5aa42fc8"
      },
      "execution_count": null,
      "outputs": [
        {
          "output_type": "stream",
          "name": "stdout",
          "text": [
            "<class 'int'>\n",
            "<class 'int'>\n",
            "12\n",
            "55\n"
          ]
        }
      ]
    },
    {
      "cell_type": "code",
      "source": [
        "# typecasting\n",
        "a = 5\n",
        "#typecast to float\n",
        "n = float(a)\n",
        "print(n)\n",
        "print(type(n))\n"
      ],
      "metadata": {
        "colab": {
          "base_uri": "https://localhost:8080/"
        },
        "id": "OF2_W0heCqGX",
        "outputId": "bcaef889-3ad1-4733-8811-7a531a5c19b9"
      },
      "execution_count": null,
      "outputs": [
        {
          "output_type": "stream",
          "name": "stdout",
          "text": [
            "5.0\n",
            "<class 'float'>\n"
          ]
        }
      ]
    },
    {
      "cell_type": "code",
      "source": [
        "#list\n",
        "l1 = ['hi',1 ,7,'list',6 ,7, 9 ,5 ,[3, 59,'hello']]\n",
        "l2 = l1[8][2]\n",
        "print(l2)\n",
        "length = len(l1)\n",
        "print(length)"
      ],
      "metadata": {
        "colab": {
          "base_uri": "https://localhost:8080/"
        },
        "id": "oK6Mm4ZUDaPv",
        "outputId": "b197deaa-b4d7-4eee-c82c-8f4cc3de1712"
      },
      "execution_count": null,
      "outputs": [
        {
          "output_type": "stream",
          "name": "stdout",
          "text": [
            "hello\n",
            "9\n"
          ]
        }
      ]
    },
    {
      "cell_type": "code",
      "source": [
        "num = []\n",
        "\n",
        "num.append(21)\n",
        "num.append(40.5)\n",
        "\n",
        "print(num)"
      ],
      "metadata": {
        "colab": {
          "base_uri": "https://localhost:8080/"
        },
        "id": "FNfPlMguHdrv",
        "outputId": "c7fff460-e6c5-4761-ae13-5f5f28d49ac3"
      },
      "execution_count": null,
      "outputs": [
        {
          "output_type": "stream",
          "name": "stdout",
          "text": [
            "[21, 40.5]\n"
          ]
        }
      ]
    },
    {
      "cell_type": "code",
      "source": [
        "#DICTIONARY\n",
        "student = {\"name\" : \"alice\" , \"age\" : 20, \"major\": \"computer science\"}\n",
        "\n",
        "print(\"name:\", student[\"name\"])\n",
        "print(\"age:\", student[\"age\"])\n",
        "\n",
        "keys = student.keys()\n",
        "values = student.values()\n",
        "items = student.items()\n",
        "\n",
        "print(\"keys:\" , keys)\n",
        "print(\"values:\" , values)\n",
        "print(\"key-value pairs:\" , items)"
      ],
      "metadata": {
        "colab": {
          "base_uri": "https://localhost:8080/"
        },
        "id": "TbLLxzsYH3zf",
        "outputId": "30a11b38-e9e6-4055-a6bc-741499822f20"
      },
      "execution_count": null,
      "outputs": [
        {
          "output_type": "stream",
          "name": "stdout",
          "text": [
            "name: alice\n",
            "age: 20\n",
            "keys: dict_keys(['name', 'age', 'major'])\n",
            "values: dict_values(['alice', 20, 'computer science'])\n",
            "key-value pairs: dict_items([('name', 'alice'), ('age', 20), ('major', 'computer science')])\n"
          ]
        }
      ]
    }
  ]
}